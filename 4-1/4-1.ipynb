{
 "cells": [
  {
   "cell_type": "code",
   "execution_count": 1,
   "metadata": {
    "collapsed": false
   },
   "outputs": [
    {
     "name": "stdout",
     "output_type": "stream",
     "text": [
      "count_top3([1900, 1950, 2000]) == ['James' 'John' 'Robert']\n",
      "count_dynamics([1900, 1950, 2000]) == {'F': [299822, 1713450, 1814738], 'M': [150490, 1791474, 1962556]}\n"
     ]
    }
   ],
   "source": [
    "import pandas as pd\n",
    "\n",
    "\n",
    "def agg_count(row):\n",
    "    count_x = getattr(row, 'Count_x', 0)\n",
    "    count_y = getattr(row, 'Count_y', 0)\n",
    "    count = getattr(row, 'Count', 0)\n",
    "\n",
    "    row.Count = count + count_x + count_y\n",
    "    return row\n",
    "\n",
    "\n",
    "def top3(list_year, PATH):\n",
    "    cols = ['Name', 'Gender', 'Count']\n",
    "    names_all = None\n",
    "    for year in list_year:\n",
    "        names_year = pd.read_csv(PATH + 'yob{}.txt'.format(year), names=cols)\n",
    "        if names_all is None:\n",
    "            names_all = names_year\n",
    "        else:\n",
    "            names_all = pd.merge(names_all, names_year, on=['Name', 'Gender']).apply(agg_count, axis=1)\n",
    "    names_all['total'] = names_all.sum(axis=1)\n",
    "    #print(names_all)\n",
    "\n",
    "    result = names_all.sort_values(by='total', ascending=False).head(3)\n",
    "    return result['Name'].values\n",
    "\n",
    "\n",
    "def dynamics(list_year, PATH):\n",
    "    cols = ['Name', 'Gender', 'Count']\n",
    "    names_all = None\n",
    "    list_f = []\n",
    "    list_m = []\n",
    "    for year in list_year:\n",
    "        names_year = pd.read_csv(PATH + 'yob{}.txt'.format(year), names=cols)\n",
    "        f = names_year[names_year.Gender == 'F'].Count.sum()\n",
    "        m = names_year[names_year.Gender == 'M'].Count.sum()\n",
    "        list_f.append(f)\n",
    "        list_m.append(m)\n",
    "    result = {'F': list_f, 'M': list_m}\n",
    "    return result\n",
    "\n",
    "\n",
    "def main():\n",
    "    PATH = r'C:\\Users\\swetlanka\\Documents\\GitHub\\py3\\4-1\\names\\\\'\n",
    "    list_year = [1900,1950,2000]\n",
    "    print('count_top3({}) =='.format(list_year), top3(list_year, PATH))\n",
    "    print('count_dynamics({}) =='.format(list_year), dynamics(list_year, PATH))\n",
    "\n",
    "    \n",
    "main()"
   ]
  },
  {
   "cell_type": "code",
   "execution_count": null,
   "metadata": {
    "collapsed": true
   },
   "outputs": [],
   "source": []
  }
 ],
 "metadata": {
  "kernelspec": {
   "display_name": "Python 3",
   "language": "python",
   "name": "python3"
  },
  "language_info": {
   "codemirror_mode": {
    "name": "ipython",
    "version": 3
   },
   "file_extension": ".py",
   "mimetype": "text/x-python",
   "name": "python",
   "nbconvert_exporter": "python",
   "pygments_lexer": "ipython3",
   "version": "3.6.0"
  }
 },
 "nbformat": 4,
 "nbformat_minor": 0
}
